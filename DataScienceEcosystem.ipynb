{
 "cells": [
  {
   "cell_type": "markdown",
   "id": "60c6517d-d731-4476-aac3-34ff615bfd61",
   "metadata": {},
   "source": [
    "<h1>Data Science Tools and Ecosystem</h1>"
   ]
  },
  {
   "cell_type": "markdown",
   "id": "f62612cc-8c13-41b0-b86b-0081b64cd41a",
   "metadata": {},
   "source": [
    "<p>In this notebook, Data Science Tools and Ecosystem are summarized.</p>\n",
    "<details><summary>Objectives:</summary>\n",
    "<ul>\n",
    "  <li>Popular languages for Data Science</li>\n",
    "  <li>Data Science Tools</li>\n",
    "  <li>Commonly used libraries used by Data scientist</li>\n",
    "  <li>Arithmetic expressions in Python</li>\n",
    "</ul>\n",
    "</details>"
   ]
  },
  {
   "cell_type": "markdown",
   "id": "3a82e0ec-30e2-41bd-969c-43e437e242e3",
   "metadata": {},
   "source": [
    "<p>Some of the popular languages that Data Scientists use are:</p>\n",
    "<ol>\n",
    "  <li>Python</li>\n",
    "  <li>SQL</li>\n",
    "  <li>R</li>\n",
    "  <li>C++</li>\n",
    "</ol>"
   ]
  },
  {
   "cell_type": "markdown",
   "id": "b9bee80d-a388-4202-96db-623134bc8d32",
   "metadata": {},
   "source": [
    "<p>Some of the commonly used libraries used by Data Scientists include:</p>\n",
    "<ol>\n",
    "  <li>TensorFlow</li>\n",
    "  <li>NumPy</li>\n",
    "  <li>Pandas</li>\n",
    "  <li>SciPy</li>\n",
    "</ol>"
   ]
  },
  {
   "cell_type": "markdown",
   "id": "f4af49e8-4c39-4b51-886d-d637e59b4277",
   "metadata": {},
   "source": [
    "<details><summary>Data Science Tools</summary>\n",
    "\n",
    "```\n",
    "1. Jupyter Notebook\n",
    "2. Tableau\n",
    "3. RapidMiner\n",
    "```\n",
    "\n",
    "</details>\n"
   ]
  },
  {
   "cell_type": "markdown",
   "id": "c62c1856-c722-404d-938e-648eb4f33dbb",
   "metadata": {},
   "source": [
    "<h3>Below are a few examples of evaluating arithmetic expressions in Python</h3>\n",
    "<details><summary>Arithmetic expressions in Python</summary>\n",
    "\n",
    "```\n",
    "1. x + y\n",
    "2. x - y\n",
    "3. x * y\n",
    "```\n",
    "\n",
    "</details>"
   ]
  },
  {
   "cell_type": "code",
   "execution_count": 9,
   "id": "5d05321b-ac9d-4e1f-83bc-fbd218669bd9",
   "metadata": {},
   "outputs": [
    {
     "data": {
      "text/plain": [
       "17"
      ]
     },
     "execution_count": 9,
     "metadata": {},
     "output_type": "execute_result"
    }
   ],
   "source": [
    "##This a simple arithmetic expression to mutiply then add integers\n",
    "(3*4)+5"
   ]
  },
  {
   "cell_type": "code",
   "execution_count": 10,
   "id": "d3bb603b-2026-4c6a-8cd4-d8c3202b8ad5",
   "metadata": {},
   "outputs": [
    {
     "name": "stdout",
     "output_type": "stream",
     "text": [
      "3.3333333333333335\n"
     ]
    }
   ],
   "source": [
    "##This will convert 200 minutes to hours by diving by 60\n",
    "minutes = 200\n",
    "hours = minutes / 60\n",
    "\n",
    "print(hours)"
   ]
  },
  {
   "cell_type": "markdown",
   "id": "6306061c-a27c-40fd-87f4-8b5eae7e1177",
   "metadata": {},
   "source": [
    "<h2>Author</h2>\n",
    "<p>Oluwatobi Segun Jimoh</p>"
   ]
  }
 ],
 "metadata": {
  "kernelspec": {
   "display_name": "Python",
   "language": "python",
   "name": "conda-env-python-py"
  },
  "language_info": {
   "codemirror_mode": {
    "name": "ipython",
    "version": 3
   },
   "file_extension": ".py",
   "mimetype": "text/x-python",
   "name": "python",
   "nbconvert_exporter": "python",
   "pygments_lexer": "ipython3",
   "version": "3.7.12"
  }
 },
 "nbformat": 4,
 "nbformat_minor": 5
}
